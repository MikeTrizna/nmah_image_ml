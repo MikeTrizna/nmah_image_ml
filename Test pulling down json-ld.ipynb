{
 "cells": [
  {
   "cell_type": "markdown",
   "metadata": {},
   "source": [
    "# Testing out parsing JSON-LD from nomenclature.info"
   ]
  },
  {
   "cell_type": "code",
   "execution_count": 1,
   "metadata": {
    "ExecuteTime": {
     "end_time": "2019-11-12T17:08:21.250453Z",
     "start_time": "2019-11-12T17:08:20.936668Z"
    }
   },
   "outputs": [],
   "source": [
    "import requests\n",
    "from bs4 import BeautifulSoup\n",
    "import json\n",
    "from unicodedata import normalize"
   ]
  },
  {
   "cell_type": "markdown",
   "metadata": {},
   "source": [
    "## Parsing a single example\n",
    "\n",
    "Here, I semi-randomly chose the entry for \"chair\", which can be found at https://www.nomenclature.info/parcourir-browse.app?id=1090&lang=en. I say semi-random, because I was looking for an entry with a \"full\" set of features."
   ]
  },
  {
   "cell_type": "code",
   "execution_count": 2,
   "metadata": {
    "ExecuteTime": {
     "end_time": "2019-11-12T17:08:23.008049Z",
     "start_time": "2019-11-12T17:08:21.253446Z"
    }
   },
   "outputs": [],
   "source": [
    "test_url = 'https://www.nomenclature.info/parcourir-browse.app?id=1090'\n",
    "r = requests.get(test_url)"
   ]
  },
  {
   "cell_type": "markdown",
   "metadata": {},
   "source": [
    "After using the `requests` package to download the full page source, I use `BeautifulSoup` to parse it into HTML elements."
   ]
  },
  {
   "cell_type": "code",
   "execution_count": 3,
   "metadata": {
    "ExecuteTime": {
     "end_time": "2019-11-12T17:08:23.026622Z",
     "start_time": "2019-11-12T17:08:23.009604Z"
    }
   },
   "outputs": [],
   "source": [
    "soup = BeautifulSoup(r.text)"
   ]
  },
  {
   "cell_type": "markdown",
   "metadata": {},
   "source": [
    "From the `soup` that comes from `BeautifulSoup`, I can then drill down to the json-ld portion of the page source."
   ]
  },
  {
   "cell_type": "code",
   "execution_count": 4,
   "metadata": {
    "ExecuteTime": {
     "end_time": "2019-11-12T17:08:23.038063Z",
     "start_time": "2019-11-12T17:08:23.031019Z"
    }
   },
   "outputs": [
    {
     "name": "stdout",
     "output_type": "stream",
     "text": [
      "{\n",
      "  \"@context\": {\n",
      "    \"cs\": \"http://purl.org/vocab/changeset/schema\",\n",
      "    \"dc\": \"http://purl.org/dc/elements/1.1/\",\n",
      "    \"dct\": \"http://purl.org/dc/terms/\",\n",
      "    \"foaf\": \"http://xmlns.com/foaf/0.1/\",\n",
      "    \"nomo\": \"http://nomenclature.info/nom/ontology/\",\n",
      "    \"owl\": \"http://www.w3.org/2002/07/owl#\",\n",
      "    \"rdf\": \"http://www.w3.org/1999/02/22-rdf-syntax-ns#\",\n",
      "    \"skos\": \"http://www.w3.org/2004/02/skos/core#\",\n",
      "    \"skos-xl\": \"http://www.w3.org/2008/05/skos-xl#\"\n",
      "  },\n",
      "  \"@id\": \"http://nomenclature.info/nom/1090\",\n",
      "  \"@type\": [\n",
      "    \"http://www.w3.org/2004/02/skos/core#Concept\"\n",
      "  ],\n",
      "  \"dc:identifier\": [\n",
      "    {\n",
      "      \"@type\": \"http://www.w3.org/2001/XMLSchema#string\",\n",
      "      \"@value\": \"1090\"\n",
      "    }\n",
      "  ],\n",
      "  \"dct:modified\": \"2019-06-13T15:08:58.823Z\",\n",
      "  \"foaf:img\": [\n",
      "    {\n",
      "      \"@id\": \"https://app.pch.gc.ca/public_info/nomenclature/images/02-00147.jpg\"\n",
      "    }\n",
      "  ],\n",
      "  \"nomo:Date-Added\": [\n",
      "    {\n",
      "      \"@language\": \"en\",\n",
      "      \"@value\": \"1978-2010\"\n",
      "    }\n",
      "  ],\n",
      "  \"nomo:Definition-Source\": [\n",
      "    {\n",
      "      \"@language\": \"en\",\n",
      "      \"@value\": \"Parks Canada Descriptive and Visual Dictionary of Objects\"\n",
      "    },\n",
      "    {\n",
      "      \"@language\": \"fr\",\n",
      "      \"@value\": \"Le Dictionnaire descriptif et visuel d'objets de Parcs Canada\"\n",
      "    }\n",
      "  ],\n",
      "  \"nomo:English-Term-Contributor\": [\n",
      "    {\n",
      "      \"@language\": \"en\",\n",
      "      \"@value\": \"American Association for State and Local History (AASLH)\"\n",
      "    },\n",
      "    {\n",
      "      \"@language\": \"fr\",\n",
      "      \"@value\": \"American Association for State and Local History (AASLH)\"\n",
      "    }\n",
      "  ],\n",
      "  \"nomo:English-Term-Source\": [\n",
      "    {\n",
      "      \"@language\": \"en\",\n",
      "      \"@value\": \"Nomenclature for Museum Cataloging\"\n",
      "    },\n",
      "    {\n",
      "      \"@language\": \"fr\",\n",
      "      \"@value\": \"Nomenclature pour le catalogage des objets de musée\"\n",
      "    }\n",
      "  ],\n",
      "  \"nomo:French-Term-Contributor\": [\n",
      "    {\n",
      "      \"@language\": \"en\",\n",
      "      \"@value\": \"Canadian Heritage Information Network (CHIN)\"\n",
      "    },\n",
      "    {\n",
      "      \"@language\": \"fr\",\n",
      "      \"@value\": \"Réseau canadien d’information sur le patrimoine (RCIP)\"\n",
      "    }\n",
      "  ],\n",
      "  \"nomo:French-Term-Gender\": [\n",
      "    {\n",
      "      \"@type\": \"http://www.w3.org/2001/XMLSchema#string\",\n",
      "      \"@value\": \"f.\"\n",
      "    }\n",
      "  ],\n",
      "  \"nomo:French-Term-Source\": [\n",
      "    {\n",
      "      \"@language\": \"en\",\n",
      "      \"@value\": \"Parks Canada Descriptive and Visual Dictionary of Objects\"\n",
      "    },\n",
      "    {\n",
      "      \"@language\": \"fr\",\n",
      "      \"@value\": \"Dictionnaire descriptif et visuel d’objets de Parcs Canada\"\n",
      "    }\n",
      "  ],\n",
      "  \"nomo:Image-Source\": [\n",
      "    {\n",
      "      \"@language\": \"en\",\n",
      "      \"@value\": \"Parks Canada Descriptive and Visual Dictionary of Objects\"\n",
      "    },\n",
      "    {\n",
      "      \"@language\": \"fr\",\n",
      "      \"@value\": \"Le Dictionnaire descriptif et visuel d'objets de Parcs Canada\"\n",
      "    }\n",
      "  ],\n",
      "  \"nomo:level\": {\n",
      "    \"@type\": \"http://www.w3.org/2001/XMLSchema#integer\",\n",
      "    \"@value\": \"4\"\n",
      "  },\n",
      "  \"nomo:sortEn\": {\n",
      "    \"@type\": \"http://www.w3.org/2001/XMLSchema#string\",\n",
      "    \"@value\": \"020303003\"\n",
      "  },\n",
      "  \"nomo:sortEnInv\": {\n",
      "    \"@type\": \"http://www.w3.org/2001/XMLSchema#string\",\n",
      "    \"@value\": \"020303003\"\n",
      "  },\n",
      "  \"nomo:sortFr\": {\n",
      "    \"@type\": \"http://www.w3.org/2001/XMLSchema#string\",\n",
      "    \"@value\": \"020505005\"\n",
      "  },\n",
      "  \"skos:broader\": [\n",
      "    {\n",
      "      \"@id\": \"http://nomenclature.info/nom/1071\"\n",
      "    }\n",
      "  ],\n",
      "  \"skos:definition\": [\n",
      "    {\n",
      "      \"@language\": \"en\",\n",
      "      \"@value\": \"A movable seat with a back and with or without arms. It is generally made of wood, usually has four legs for support and sometimes has an upholstered seat and back. (In French, the term chaise represents a seat without arms.)\\nUsed to seat one person.\"\n",
      "    },\n",
      "    {\n",
      "      \"@language\": \"fr\",\n",
      "      \"@value\": \"Siège à une seule place, sur pieds, à dossier et sans accotoirs. Le siège et le dossier sont parfois rembourrés. \\nPermet à une personne de s’asseoir. (En anglais le terme chair représente un siège avec ou sans accotoirs).\"\n",
      "    }\n",
      "  ],\n",
      "  \"skos:exactMatch\": [\n",
      "    {\n",
      "      \"@id\": \"http://fr.dbpedia.org/resource/Chaise\"\n",
      "    },\n",
      "    {\n",
      "      \"@id\": \"http://dbpedia.org/resource/Chair\"\n",
      "    },\n",
      "    {\n",
      "      \"@id\": \"http://vocab.getty.edu/aat/300037772\"\n",
      "    },\n",
      "    {\n",
      "      \"@id\": \"http://data.bnf.fr/ark:/12148/cb12467435t\"\n",
      "    },\n",
      "    {\n",
      "      \"@id\": \"http://data.culture.fr/thesaurus/resource/ark:/67717/T69-33\"\n",
      "    },\n",
      "    {\n",
      "      \"@id\": \"http://www.wikidata.org/wiki/Q15026\"\n",
      "    },\n",
      "    {\n",
      "      \"@id\": \"http://d-nb.info/gnd/4058247-4\"\n",
      "    }\n",
      "  ],\n",
      "  \"skos:hiddenLabel\": [\n",
      "    {\n",
      "      \"@language\": \"fr\",\n",
      "      \"@value\": \"siège\"\n",
      "    }\n",
      "  ],\n",
      "  \"skos:inScheme\": [\n",
      "    {\n",
      "      \"@id\": \"http://nomenclature.info/nom/\"\n",
      "    }\n",
      "  ],\n",
      "  \"skos:narrower\": [\n",
      "    {\n",
      "      \"@id\": \"http://nomenclature.info/nom/1091\"\n",
      "    },\n",
      "    {\n",
      "      \"@id\": \"http://nomenclature.info/nom/1101\"\n",
      "    },\n",
      "    {\n",
      "      \"@id\": \"http://nomenclature.info/nom/1102\"\n",
      "    },\n",
      "    {\n",
      "      \"@id\": \"http://nomenclature.info/nom/1103\"\n",
      "    },\n",
      "    {\n",
      "      \"@id\": \"http://nomenclature.info/nom/1104\"\n",
      "    },\n",
      "    {\n",
      "      \"@id\": \"http://nomenclature.info/nom/1105\"\n",
      "    },\n",
      "    {\n",
      "      \"@id\": \"http://nomenclature.info/nom/1108\"\n",
      "    },\n",
      "    {\n",
      "      \"@id\": \"http://nomenclature.info/nom/1109\"\n",
      "    },\n",
      "    {\n",
      "      \"@id\": \"http://nomenclature.info/nom/1110\"\n",
      "    },\n",
      "    {\n",
      "      \"@id\": \"http://nomenclature.info/nom/1111\"\n",
      "    },\n",
      "    {\n",
      "      \"@id\": \"http://nomenclature.info/nom/1112\"\n",
      "    },\n",
      "    {\n",
      "      \"@id\": \"http://nomenclature.info/nom/1116\"\n",
      "    },\n",
      "    {\n",
      "      \"@id\": \"http://nomenclature.info/nom/1117\"\n",
      "    },\n",
      "    {\n",
      "      \"@id\": \"http://nomenclature.info/nom/1118\"\n",
      "    },\n",
      "    {\n",
      "      \"@id\": \"http://nomenclature.info/nom/1119\"\n",
      "    },\n",
      "    {\n",
      "      \"@id\": \"http://nomenclature.info/nom/1121\"\n",
      "    },\n",
      "    {\n",
      "      \"@id\": \"http://nomenclature.info/nom/1122\"\n",
      "    },\n",
      "    {\n",
      "      \"@id\": \"http://nomenclature.info/nom/1123\"\n",
      "    },\n",
      "    {\n",
      "      \"@id\": \"http://nomenclature.info/nom/1126\"\n",
      "    },\n",
      "    {\n",
      "      \"@id\": \"http://nomenclature.info/nom/1127\"\n",
      "    },\n",
      "    {\n",
      "      \"@id\": \"http://nomenclature.info/nom/1128\"\n",
      "    },\n",
      "    {\n",
      "      \"@id\": \"http://nomenclature.info/nom/1130\"\n",
      "    },\n",
      "    {\n",
      "      \"@id\": \"http://nomenclature.info/nom/1131\"\n",
      "    },\n",
      "    {\n",
      "      \"@id\": \"http://nomenclature.info/nom/1132\"\n",
      "    },\n",
      "    {\n",
      "      \"@id\": \"http://nomenclature.info/nom/1133\"\n",
      "    },\n",
      "    {\n",
      "      \"@id\": \"http://nomenclature.info/nom/1134\"\n",
      "    },\n",
      "    {\n",
      "      \"@id\": \"http://nomenclature.info/nom/1135\"\n",
      "    },\n",
      "    {\n",
      "      \"@id\": \"http://nomenclature.info/nom/1136\"\n",
      "    },\n",
      "    {\n",
      "      \"@id\": \"http://nomenclature.info/nom/1137\"\n",
      "    },\n",
      "    {\n",
      "      \"@id\": \"http://nomenclature.info/nom/1138\"\n",
      "    },\n",
      "    {\n",
      "      \"@id\": \"http://nomenclature.info/nom/1139\"\n",
      "    },\n",
      "    {\n",
      "      \"@id\": \"http://nomenclature.info/nom/1140\"\n",
      "    },\n",
      "    {\n",
      "      \"@id\": \"http://nomenclature.info/nom/1142\"\n",
      "    },\n",
      "    {\n",
      "      \"@id\": \"http://nomenclature.info/nom/1143\"\n",
      "    },\n",
      "    {\n",
      "      \"@id\": \"http://nomenclature.info/nom/1144\"\n",
      "    }\n",
      "  ],\n",
      "  \"skos:notation\": [\n",
      "    {\n",
      "      \"@language\": \"en\",\n",
      "      \"@value\": \"02-00147\"\n",
      "    }\n",
      "  ],\n",
      "  \"skos:prefLabel\": [\n",
      "    {\n",
      "      \"@language\": \"en\",\n",
      "      \"@value\": \"Chair\"\n",
      "    },\n",
      "    {\n",
      "      \"@language\": \"es\",\n",
      "      \"@value\": \"Silla\"\n",
      "    },\n",
      "    {\n",
      "      \"@language\": \"fr\",\n",
      "      \"@value\": \"Chaise\"\n",
      "    }\n",
      "  ]\n",
      "}\n"
     ]
    }
   ],
   "source": [
    "json_ld_text = soup.find('script', {'type':'application/ld+json'}).text\n",
    "json_ld = json.loads(json_ld_text)\n",
    "print(json.dumps(json_ld, indent=2, sort_keys=True, ensure_ascii=False))"
   ]
  },
  {
   "cell_type": "markdown",
   "metadata": {},
   "source": [
    "The `extract_nom_jsonld` function below is a preliminary stab at pulling out selected pieces from the JSON-LD, for saving into tabular format."
   ]
  },
  {
   "cell_type": "code",
   "execution_count": 5,
   "metadata": {
    "ExecuteTime": {
     "end_time": "2019-11-12T17:08:23.050273Z",
     "start_time": "2019-11-12T17:08:23.040272Z"
    }
   },
   "outputs": [],
   "source": [
    "def extract_nom_jsonld(nom_url):\n",
    "    r = requests.get(nom_url)\n",
    "    soup = BeautifulSoup(r.text)\n",
    "    json_ld_text = soup.find('script', {'type':'application/ld+json'}).text\n",
    "    json_ld = json.loads(json_ld_text)\n",
    "    \n",
    "    subset = {}\n",
    "    subset['id'] = json_ld['@id']\n",
    "    if 'skos:definition' in json_ld:\n",
    "        if isinstance(json_ld['skos:definition'],list):\n",
    "            for definition in json_ld['skos:definition']:\n",
    "                if definition['@language'] == 'en':\n",
    "                    subset['definition'] = definition['@value']\n",
    "        elif isinstance(json_ld['skos:definition'],dict):\n",
    "            definition = json_ld['skos:definition']\n",
    "            if definition['@language'] == 'en':\n",
    "                subset['definition'] = definition['@value']\n",
    "        subset['definition'] = normalize(\"NFKD\",subset['definition']).replace('\\n',' ')\n",
    "    if 'skos:prefLabel' in json_ld:\n",
    "        if isinstance(json_ld['skos:prefLabel'],list):\n",
    "            for label in json_ld['skos:prefLabel']:\n",
    "                if label['@language'] == 'en':\n",
    "                    subset['label'] = label['@value']\n",
    "        elif isinstance(json_ld['skos:prefLabel'],dict):\n",
    "            label = json_ld['skos:prefLabel']\n",
    "            if label['@language'] == 'en':\n",
    "                    subset['label'] = label['@value']\n",
    "        subset['label'] = normalize(\"NFKD\",subset['label']).replace('\\n',' ')\n",
    "    if 'skos:narrower' in json_ld:\n",
    "        children = []\n",
    "        for child in json_ld['skos:narrower']:\n",
    "            children.append(child['@id'])\n",
    "        subset['children'] = children\n",
    "    if 'skos:broader' in json_ld:\n",
    "        subset['parent'] = json_ld['skos:broader'][0]['@id']\n",
    "    return subset\n",
    "        \n",
    "        "
   ]
  },
  {
   "cell_type": "markdown",
   "metadata": {},
   "source": [
    "The result of running the \"chair\" page through the `extract_nom_jsonld` function."
   ]
  },
  {
   "cell_type": "code",
   "execution_count": 6,
   "metadata": {
    "ExecuteTime": {
     "end_time": "2019-11-12T17:08:24.882883Z",
     "start_time": "2019-11-12T17:08:23.051758Z"
    }
   },
   "outputs": [
    {
     "data": {
      "text/plain": [
       "{'id': 'http://nomenclature.info/nom/1090',\n",
       " 'definition': 'A movable seat with a back and with or without arms. It is generally made of wood, usually has four legs for support and sometimes has an upholstered seat and back. (In French, the term chaise represents a seat without arms.) Used to seat one person.',\n",
       " 'label': 'Chair',\n",
       " 'children': ['http://nomenclature.info/nom/1091',\n",
       "  'http://nomenclature.info/nom/1101',\n",
       "  'http://nomenclature.info/nom/1102',\n",
       "  'http://nomenclature.info/nom/1103',\n",
       "  'http://nomenclature.info/nom/1104',\n",
       "  'http://nomenclature.info/nom/1105',\n",
       "  'http://nomenclature.info/nom/1108',\n",
       "  'http://nomenclature.info/nom/1109',\n",
       "  'http://nomenclature.info/nom/1110',\n",
       "  'http://nomenclature.info/nom/1111',\n",
       "  'http://nomenclature.info/nom/1112',\n",
       "  'http://nomenclature.info/nom/1116',\n",
       "  'http://nomenclature.info/nom/1117',\n",
       "  'http://nomenclature.info/nom/1118',\n",
       "  'http://nomenclature.info/nom/1119',\n",
       "  'http://nomenclature.info/nom/1121',\n",
       "  'http://nomenclature.info/nom/1122',\n",
       "  'http://nomenclature.info/nom/1123',\n",
       "  'http://nomenclature.info/nom/1126',\n",
       "  'http://nomenclature.info/nom/1127',\n",
       "  'http://nomenclature.info/nom/1128',\n",
       "  'http://nomenclature.info/nom/1130',\n",
       "  'http://nomenclature.info/nom/1131',\n",
       "  'http://nomenclature.info/nom/1132',\n",
       "  'http://nomenclature.info/nom/1133',\n",
       "  'http://nomenclature.info/nom/1134',\n",
       "  'http://nomenclature.info/nom/1135',\n",
       "  'http://nomenclature.info/nom/1136',\n",
       "  'http://nomenclature.info/nom/1137',\n",
       "  'http://nomenclature.info/nom/1138',\n",
       "  'http://nomenclature.info/nom/1139',\n",
       "  'http://nomenclature.info/nom/1140',\n",
       "  'http://nomenclature.info/nom/1142',\n",
       "  'http://nomenclature.info/nom/1143',\n",
       "  'http://nomenclature.info/nom/1144'],\n",
       " 'parent': 'http://nomenclature.info/nom/1071'}"
      ]
     },
     "execution_count": 6,
     "metadata": {},
     "output_type": "execute_result"
    }
   ],
   "source": [
    "extract_nom_jsonld('http://nomenclature.info/nom/1090')"
   ]
  },
  {
   "cell_type": "markdown",
   "metadata": {},
   "source": [
    "## Setting up a loop to grab all \"children\" nodes\n",
    "\n",
    "Here I set up a while loop to iterate through all of the nodes below \"chair\". The way it works is to start with a list of a single node, and then each time through the loop, any children nodes get added to the list. The loop is complete when all nodes have been visited.\n",
    "\n",
    "This example visits and parses 55 pages, but I could set `ids_to_grab` with the root node(s) for nomenclature.info to grab every single term and definition."
   ]
  },
  {
   "cell_type": "code",
   "execution_count": 7,
   "metadata": {
    "ExecuteTime": {
     "end_time": "2019-11-12T17:10:08.956183Z",
     "start_time": "2019-11-12T17:08:24.884801Z"
    }
   },
   "outputs": [
    {
     "name": "stdout",
     "output_type": "stream",
     "text": [
      "55\n"
     ]
    }
   ],
   "source": [
    "ids_to_grab = ['http://nomenclature.info/nom/1090']\n",
    "nomenclature_results = []\n",
    "\n",
    "while len(ids_to_grab) > 0:\n",
    "    nom_id = ids_to_grab.pop()\n",
    "    ld_dict = extract_nom_jsonld(nom_id)\n",
    "    if 'children' in ld_dict:\n",
    "        for child in ld_dict['children']:\n",
    "            ids_to_grab.append(child)\n",
    "    nom_result = {k: ld_dict.get(k, None) for k in ('id','definition','parent','label')}\n",
    "    nomenclature_results.append(nom_result)\n",
    "print(len(nomenclature_results))\n"
   ]
  },
  {
   "cell_type": "markdown",
   "metadata": {},
   "source": [
    "### Loading the subset results into a Panda DataFrame"
   ]
  },
  {
   "cell_type": "code",
   "execution_count": 8,
   "metadata": {
    "ExecuteTime": {
     "end_time": "2019-11-12T17:10:09.944938Z",
     "start_time": "2019-11-12T17:10:08.957697Z"
    }
   },
   "outputs": [],
   "source": [
    "import pandas as pd"
   ]
  },
  {
   "cell_type": "code",
   "execution_count": 9,
   "metadata": {
    "ExecuteTime": {
     "end_time": "2019-11-12T17:10:09.958519Z",
     "start_time": "2019-11-12T17:10:09.946284Z"
    }
   },
   "outputs": [
    {
     "name": "stdout",
     "output_type": "stream",
     "text": [
      "<class 'pandas.core.frame.DataFrame'>\n",
      "RangeIndex: 55 entries, 0 to 54\n",
      "Data columns (total 4 columns):\n",
      "definition    9 non-null object\n",
      "id            55 non-null object\n",
      "label         55 non-null object\n",
      "parent        55 non-null object\n",
      "dtypes: object(4)\n",
      "memory usage: 1.8+ KB\n"
     ]
    }
   ],
   "source": [
    "nom_df = pd.DataFrame(nomenclature_results)\n",
    "nom_df.info()"
   ]
  },
  {
   "cell_type": "code",
   "execution_count": 10,
   "metadata": {
    "ExecuteTime": {
     "end_time": "2019-11-12T17:10:09.970126Z",
     "start_time": "2019-11-12T17:10:09.960003Z"
    }
   },
   "outputs": [
    {
     "data": {
      "text/html": [
       "<div>\n",
       "<style scoped>\n",
       "    .dataframe tbody tr th:only-of-type {\n",
       "        vertical-align: middle;\n",
       "    }\n",
       "\n",
       "    .dataframe tbody tr th {\n",
       "        vertical-align: top;\n",
       "    }\n",
       "\n",
       "    .dataframe thead th {\n",
       "        text-align: right;\n",
       "    }\n",
       "</style>\n",
       "<table border=\"1\" class=\"dataframe\">\n",
       "  <thead>\n",
       "    <tr style=\"text-align: right;\">\n",
       "      <th></th>\n",
       "      <th>definition</th>\n",
       "      <th>id</th>\n",
       "      <th>label</th>\n",
       "      <th>parent</th>\n",
       "    </tr>\n",
       "  </thead>\n",
       "  <tbody>\n",
       "    <tr>\n",
       "      <th>0</th>\n",
       "      <td>A movable seat with a back and with or without...</td>\n",
       "      <td>http://nomenclature.info/nom/1090</td>\n",
       "      <td>Chair</td>\n",
       "      <td>http://nomenclature.info/nom/1071</td>\n",
       "    </tr>\n",
       "    <tr>\n",
       "      <th>1</th>\n",
       "      <td>None</td>\n",
       "      <td>http://nomenclature.info/nom/1144</td>\n",
       "      <td>Theater Seat</td>\n",
       "      <td>http://nomenclature.info/nom/1090</td>\n",
       "    </tr>\n",
       "    <tr>\n",
       "      <th>2</th>\n",
       "      <td>None</td>\n",
       "      <td>http://nomenclature.info/nom/1143</td>\n",
       "      <td>Kubbestol</td>\n",
       "      <td>http://nomenclature.info/nom/1090</td>\n",
       "    </tr>\n",
       "    <tr>\n",
       "      <th>3</th>\n",
       "      <td>None</td>\n",
       "      <td>http://nomenclature.info/nom/1142</td>\n",
       "      <td>Klismos</td>\n",
       "      <td>http://nomenclature.info/nom/1090</td>\n",
       "    </tr>\n",
       "    <tr>\n",
       "      <th>4</th>\n",
       "      <td>None</td>\n",
       "      <td>http://nomenclature.info/nom/1140</td>\n",
       "      <td>Windsor Chair</td>\n",
       "      <td>http://nomenclature.info/nom/1090</td>\n",
       "    </tr>\n",
       "  </tbody>\n",
       "</table>\n",
       "</div>"
      ],
      "text/plain": [
       "                                          definition  \\\n",
       "0  A movable seat with a back and with or without...   \n",
       "1                                               None   \n",
       "2                                               None   \n",
       "3                                               None   \n",
       "4                                               None   \n",
       "\n",
       "                                  id          label  \\\n",
       "0  http://nomenclature.info/nom/1090          Chair   \n",
       "1  http://nomenclature.info/nom/1144   Theater Seat   \n",
       "2  http://nomenclature.info/nom/1143      Kubbestol   \n",
       "3  http://nomenclature.info/nom/1142        Klismos   \n",
       "4  http://nomenclature.info/nom/1140  Windsor Chair   \n",
       "\n",
       "                              parent  \n",
       "0  http://nomenclature.info/nom/1071  \n",
       "1  http://nomenclature.info/nom/1090  \n",
       "2  http://nomenclature.info/nom/1090  \n",
       "3  http://nomenclature.info/nom/1090  \n",
       "4  http://nomenclature.info/nom/1090  "
      ]
     },
     "execution_count": 10,
     "metadata": {},
     "output_type": "execute_result"
    }
   ],
   "source": [
    "nom_df.head()"
   ]
  },
  {
   "cell_type": "code",
   "execution_count": 11,
   "metadata": {
    "ExecuteTime": {
     "end_time": "2019-11-12T17:10:09.976268Z",
     "start_time": "2019-11-12T17:10:09.971547Z"
    }
   },
   "outputs": [
    {
     "data": {
      "text/plain": [
       "http://nomenclature.info/nom/1090    35\n",
       "http://nomenclature.info/nom/1091     9\n",
       "http://nomenclature.info/nom/1112     3\n",
       "http://nomenclature.info/nom/1105     2\n",
       "http://nomenclature.info/nom/1123     2\n",
       "http://nomenclature.info/nom/1071     1\n",
       "http://nomenclature.info/nom/1128     1\n",
       "http://nomenclature.info/nom/1140     1\n",
       "http://nomenclature.info/nom/1119     1\n",
       "Name: parent, dtype: int64"
      ]
     },
     "execution_count": 11,
     "metadata": {},
     "output_type": "execute_result"
    }
   ],
   "source": [
    "nom_df['parent'].value_counts()"
   ]
  },
  {
   "cell_type": "markdown",
   "metadata": {},
   "source": [
    "Only 9 chair terms come with an English definition, which is kind of interesting."
   ]
  },
  {
   "cell_type": "code",
   "execution_count": 12,
   "metadata": {
    "ExecuteTime": {
     "end_time": "2019-11-12T17:10:09.987365Z",
     "start_time": "2019-11-12T17:10:09.977559Z"
    }
   },
   "outputs": [
    {
     "data": {
      "text/html": [
       "<div>\n",
       "<style scoped>\n",
       "    .dataframe tbody tr th:only-of-type {\n",
       "        vertical-align: middle;\n",
       "    }\n",
       "\n",
       "    .dataframe tbody tr th {\n",
       "        vertical-align: top;\n",
       "    }\n",
       "\n",
       "    .dataframe thead th {\n",
       "        text-align: right;\n",
       "    }\n",
       "</style>\n",
       "<table border=\"1\" class=\"dataframe\">\n",
       "  <thead>\n",
       "    <tr style=\"text-align: right;\">\n",
       "      <th></th>\n",
       "      <th>definition</th>\n",
       "      <th>id</th>\n",
       "      <th>label</th>\n",
       "      <th>parent</th>\n",
       "    </tr>\n",
       "  </thead>\n",
       "  <tbody>\n",
       "    <tr>\n",
       "      <th>0</th>\n",
       "      <td>A movable seat with a back and with or without...</td>\n",
       "      <td>http://nomenclature.info/nom/1090</td>\n",
       "      <td>Chair</td>\n",
       "      <td>http://nomenclature.info/nom/1071</td>\n",
       "    </tr>\n",
       "    <tr>\n",
       "      <th>16</th>\n",
       "      <td>A chair that is mounted on two curved strips o...</td>\n",
       "      <td>http://nomenclature.info/nom/1128</td>\n",
       "      <td>Rocking Chair</td>\n",
       "      <td>http://nomenclature.info/nom/1090</td>\n",
       "    </tr>\n",
       "    <tr>\n",
       "      <th>28</th>\n",
       "      <td>A wooden chair, sometimes with arms, with a so...</td>\n",
       "      <td>http://nomenclature.info/nom/1117</td>\n",
       "      <td>Hall Chair</td>\n",
       "      <td>http://nomenclature.info/nom/1090</td>\n",
       "    </tr>\n",
       "    <tr>\n",
       "      <th>30</th>\n",
       "      <td>A chair, sometimes with arms and a light, fold...</td>\n",
       "      <td>http://nomenclature.info/nom/1112</td>\n",
       "      <td>Folding Chair</td>\n",
       "      <td>http://nomenclature.info/nom/1090</td>\n",
       "    </tr>\n",
       "    <tr>\n",
       "      <th>37</th>\n",
       "      <td>A chair, with or without arms, designed to hol...</td>\n",
       "      <td>http://nomenclature.info/nom/1108</td>\n",
       "      <td>Commode Chair</td>\n",
       "      <td>http://nomenclature.info/nom/1090</td>\n",
       "    </tr>\n",
       "    <tr>\n",
       "      <th>39</th>\n",
       "      <td>A chair with arms and very long legs. It somet...</td>\n",
       "      <td>http://nomenclature.info/nom/1107</td>\n",
       "      <td>Highchair</td>\n",
       "      <td>http://nomenclature.info/nom/1105</td>\n",
       "    </tr>\n",
       "    <tr>\n",
       "      <th>46</th>\n",
       "      <td>A chair with arms to which a large round, oval...</td>\n",
       "      <td>http://nomenclature.info/nom/1100</td>\n",
       "      <td>Chair-Table</td>\n",
       "      <td>http://nomenclature.info/nom/1091</td>\n",
       "    </tr>\n",
       "    <tr>\n",
       "      <th>47</th>\n",
       "      <td>A large, low-seated, high-backed, and usually ...</td>\n",
       "      <td>http://nomenclature.info/nom/1099</td>\n",
       "      <td>Wing Chair</td>\n",
       "      <td>http://nomenclature.info/nom/1091</td>\n",
       "    </tr>\n",
       "    <tr>\n",
       "      <th>53</th>\n",
       "      <td>A chair with arms and usually with an upholste...</td>\n",
       "      <td>http://nomenclature.info/nom/1093</td>\n",
       "      <td>Easy Chair</td>\n",
       "      <td>http://nomenclature.info/nom/1091</td>\n",
       "    </tr>\n",
       "  </tbody>\n",
       "</table>\n",
       "</div>"
      ],
      "text/plain": [
       "                                           definition  \\\n",
       "0   A movable seat with a back and with or without...   \n",
       "16  A chair that is mounted on two curved strips o...   \n",
       "28  A wooden chair, sometimes with arms, with a so...   \n",
       "30  A chair, sometimes with arms and a light, fold...   \n",
       "37  A chair, with or without arms, designed to hol...   \n",
       "39  A chair with arms and very long legs. It somet...   \n",
       "46  A chair with arms to which a large round, oval...   \n",
       "47  A large, low-seated, high-backed, and usually ...   \n",
       "53  A chair with arms and usually with an upholste...   \n",
       "\n",
       "                                   id          label  \\\n",
       "0   http://nomenclature.info/nom/1090          Chair   \n",
       "16  http://nomenclature.info/nom/1128  Rocking Chair   \n",
       "28  http://nomenclature.info/nom/1117     Hall Chair   \n",
       "30  http://nomenclature.info/nom/1112  Folding Chair   \n",
       "37  http://nomenclature.info/nom/1108  Commode Chair   \n",
       "39  http://nomenclature.info/nom/1107      Highchair   \n",
       "46  http://nomenclature.info/nom/1100    Chair-Table   \n",
       "47  http://nomenclature.info/nom/1099     Wing Chair   \n",
       "53  http://nomenclature.info/nom/1093     Easy Chair   \n",
       "\n",
       "                               parent  \n",
       "0   http://nomenclature.info/nom/1071  \n",
       "16  http://nomenclature.info/nom/1090  \n",
       "28  http://nomenclature.info/nom/1090  \n",
       "30  http://nomenclature.info/nom/1090  \n",
       "37  http://nomenclature.info/nom/1090  \n",
       "39  http://nomenclature.info/nom/1105  \n",
       "46  http://nomenclature.info/nom/1091  \n",
       "47  http://nomenclature.info/nom/1091  \n",
       "53  http://nomenclature.info/nom/1091  "
      ]
     },
     "execution_count": 12,
     "metadata": {},
     "output_type": "execute_result"
    }
   ],
   "source": [
    "nom_df[pd.notnull(nom_df['definition'])]"
   ]
  },
  {
   "cell_type": "code",
   "execution_count": null,
   "metadata": {},
   "outputs": [],
   "source": []
  }
 ],
 "metadata": {
  "kernelspec": {
   "display_name": "Python 3",
   "language": "python",
   "name": "python3"
  },
  "language_info": {
   "codemirror_mode": {
    "name": "ipython",
    "version": 3
   },
   "file_extension": ".py",
   "mimetype": "text/x-python",
   "name": "python",
   "nbconvert_exporter": "python",
   "pygments_lexer": "ipython3",
   "version": "3.7.1"
  }
 },
 "nbformat": 4,
 "nbformat_minor": 2
}
