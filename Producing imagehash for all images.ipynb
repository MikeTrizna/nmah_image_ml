{
 "cells": [
  {
   "cell_type": "code",
   "execution_count": 1,
   "metadata": {
    "ExecuteTime": {
     "end_time": "2019-08-06T23:04:18.266570Z",
     "start_time": "2019-08-06T23:04:16.378740Z"
    }
   },
   "outputs": [],
   "source": [
    "from pathlib import Path\n",
    "import imagehash\n",
    "from PIL import Image\n",
    "import pandas as pd\n",
    "import numpy as np\n",
    "from concurrent.futures import ProcessPoolExecutor"
   ]
  },
  {
   "cell_type": "code",
   "execution_count": 2,
   "metadata": {
    "ExecuteTime": {
     "end_time": "2019-08-06T23:04:18.273047Z",
     "start_time": "2019-08-06T23:04:18.269530Z"
    }
   },
   "outputs": [],
   "source": [
    "THREADS = 24"
   ]
  },
  {
   "cell_type": "code",
   "execution_count": 3,
   "metadata": {
    "ExecuteTime": {
     "end_time": "2019-08-06T23:04:18.284223Z",
     "start_time": "2019-08-06T23:04:18.276146Z"
    }
   },
   "outputs": [],
   "source": [
    "images_dir = Path('/pool/genomics/triznam/nmah_dupes/dupe_images/nmah/DataScience')"
   ]
  },
  {
   "cell_type": "code",
   "execution_count": 4,
   "metadata": {
    "ExecuteTime": {
     "end_time": "2019-08-06T23:04:19.541176Z",
     "start_time": "2019-08-06T23:04:18.286925Z"
    }
   },
   "outputs": [
    {
     "data": {
      "text/plain": [
       "9466"
      ]
     },
     "execution_count": 4,
     "metadata": {},
     "output_type": "execute_result"
    }
   ],
   "source": [
    "files_list = [file for file in images_dir.rglob('*') if file.is_file()]\n",
    "len(files_list)"
   ]
  },
  {
   "cell_type": "code",
   "execution_count": 5,
   "metadata": {
    "ExecuteTime": {
     "end_time": "2019-08-06T23:04:19.556043Z",
     "start_time": "2019-08-06T23:04:19.544673Z"
    }
   },
   "outputs": [],
   "source": [
    "def compute_hashes(image_path):\n",
    "    return_dict = {'image':str(image_path)}\n",
    "    try:\n",
    "        with Image.open(image_path) as im:\n",
    "            return_dict['width'], return_dict['height'] = im.size\n",
    "            resized = im.convert(\"L\").resize((100,100), Image.ANTIALIAS)\n",
    "            return_dict['av_hash'] = str(imagehash.average_hash(resized))\n",
    "            return_dict['phash'] = str(imagehash.phash(resized))\n",
    "            return_dict['dhash'] = str(imagehash.dhash(resized))\n",
    "            return_dict['whash'] = str(imagehash.whash(resized))\n",
    "    except:\n",
    "        return_dict['width'], return_dict['height'] = np.nan, np.nan\n",
    "    return return_dict"
   ]
  },
  {
   "cell_type": "code",
   "execution_count": 6,
   "metadata": {
    "ExecuteTime": {
     "end_time": "2019-08-06T23:05:18.136986Z",
     "start_time": "2019-08-06T23:04:19.558323Z"
    }
   },
   "outputs": [],
   "source": [
    "hash_results = list(ProcessPoolExecutor(THREADS).map(compute_hashes, files_list))"
   ]
  },
  {
   "cell_type": "code",
   "execution_count": 7,
   "metadata": {
    "ExecuteTime": {
     "end_time": "2019-08-06T23:05:18.210320Z",
     "start_time": "2019-08-06T23:05:18.140772Z"
    }
   },
   "outputs": [
    {
     "name": "stdout",
     "output_type": "stream",
     "text": [
      "<class 'pandas.core.frame.DataFrame'>\n",
      "RangeIndex: 9466 entries, 0 to 9465\n",
      "Data columns (total 7 columns):\n",
      "image      9466 non-null object\n",
      "width      9439 non-null float64\n",
      "height     9439 non-null float64\n",
      "av_hash    9439 non-null object\n",
      "phash      9439 non-null object\n",
      "dhash      9439 non-null object\n",
      "whash      9439 non-null object\n",
      "dtypes: float64(2), object(5)\n",
      "memory usage: 517.8+ KB\n"
     ]
    }
   ],
   "source": [
    "hash_df = pd.DataFrame(hash_results)\n",
    "hash_df.info()"
   ]
  },
  {
   "cell_type": "code",
   "execution_count": 8,
   "metadata": {
    "ExecuteTime": {
     "end_time": "2019-08-06T23:05:18.238035Z",
     "start_time": "2019-08-06T23:05:18.214512Z"
    }
   },
   "outputs": [
    {
     "data": {
      "text/html": [
       "<div>\n",
       "<style scoped>\n",
       "    .dataframe tbody tr th:only-of-type {\n",
       "        vertical-align: middle;\n",
       "    }\n",
       "\n",
       "    .dataframe tbody tr th {\n",
       "        vertical-align: top;\n",
       "    }\n",
       "\n",
       "    .dataframe thead th {\n",
       "        text-align: right;\n",
       "    }\n",
       "</style>\n",
       "<table border=\"1\" class=\"dataframe\">\n",
       "  <thead>\n",
       "    <tr style=\"text-align: right;\">\n",
       "      <th></th>\n",
       "      <th>image</th>\n",
       "      <th>width</th>\n",
       "      <th>height</th>\n",
       "      <th>av_hash</th>\n",
       "      <th>phash</th>\n",
       "      <th>dhash</th>\n",
       "      <th>whash</th>\n",
       "    </tr>\n",
       "  </thead>\n",
       "  <tbody>\n",
       "    <tr>\n",
       "      <th>0</th>\n",
       "      <td>/pool/genomics/triznam/nmah_dupes/dupe_images/...</td>\n",
       "      <td>2000.0</td>\n",
       "      <td>1961.0</td>\n",
       "      <td>00005434383000ff</td>\n",
       "      <td>c638b16f9736c4c8</td>\n",
       "      <td>7290b4cd61612382</td>\n",
       "      <td>1a587e7c3c3010ff</td>\n",
       "    </tr>\n",
       "    <tr>\n",
       "      <th>1</th>\n",
       "      <td>/pool/genomics/triznam/nmah_dupes/dupe_images/...</td>\n",
       "      <td>1024.0</td>\n",
       "      <td>794.0</td>\n",
       "      <td>ff8180818181d9f3</td>\n",
       "      <td>ff15909ec598c4c3</td>\n",
       "      <td>332f070347052b07</td>\n",
       "      <td>ff818181a181d9ff</td>\n",
       "    </tr>\n",
       "    <tr>\n",
       "      <th>2</th>\n",
       "      <td>/pool/genomics/triznam/nmah_dupes/dupe_images/...</td>\n",
       "      <td>1024.0</td>\n",
       "      <td>963.0</td>\n",
       "      <td>003c7e7efe7e7c18</td>\n",
       "      <td>c41c1f6f3832699d</td>\n",
       "      <td>71e0e0a0a2c2e870</td>\n",
       "      <td>003c7e7c7e7a7c10</td>\n",
       "    </tr>\n",
       "    <tr>\n",
       "      <th>3</th>\n",
       "      <td>/pool/genomics/triznam/nmah_dupes/dupe_images/...</td>\n",
       "      <td>1024.0</td>\n",
       "      <td>670.0</td>\n",
       "      <td>913978f2d0588ece</td>\n",
       "      <td>d06cbb6972f440bc</td>\n",
       "      <td>2373f4a6a6d01c18</td>\n",
       "      <td>91397cf2d0588ece</td>\n",
       "    </tr>\n",
       "    <tr>\n",
       "      <th>4</th>\n",
       "      <td>/pool/genomics/triznam/nmah_dupes/dupe_images/...</td>\n",
       "      <td>1024.0</td>\n",
       "      <td>672.0</td>\n",
       "      <td>001c7e7e3e181800</td>\n",
       "      <td>9cb26b4d63c3b294</td>\n",
       "      <td>33f4d4d4f4f0b231</td>\n",
       "      <td>107e7e7e7e3e1800</td>\n",
       "    </tr>\n",
       "  </tbody>\n",
       "</table>\n",
       "</div>"
      ],
      "text/plain": [
       "                                               image   width  height  \\\n",
       "0  /pool/genomics/triznam/nmah_dupes/dupe_images/...  2000.0  1961.0   \n",
       "1  /pool/genomics/triznam/nmah_dupes/dupe_images/...  1024.0   794.0   \n",
       "2  /pool/genomics/triznam/nmah_dupes/dupe_images/...  1024.0   963.0   \n",
       "3  /pool/genomics/triznam/nmah_dupes/dupe_images/...  1024.0   670.0   \n",
       "4  /pool/genomics/triznam/nmah_dupes/dupe_images/...  1024.0   672.0   \n",
       "\n",
       "            av_hash             phash             dhash             whash  \n",
       "0  00005434383000ff  c638b16f9736c4c8  7290b4cd61612382  1a587e7c3c3010ff  \n",
       "1  ff8180818181d9f3  ff15909ec598c4c3  332f070347052b07  ff818181a181d9ff  \n",
       "2  003c7e7efe7e7c18  c41c1f6f3832699d  71e0e0a0a2c2e870  003c7e7c7e7a7c10  \n",
       "3  913978f2d0588ece  d06cbb6972f440bc  2373f4a6a6d01c18  91397cf2d0588ece  \n",
       "4  001c7e7e3e181800  9cb26b4d63c3b294  33f4d4d4f4f0b231  107e7e7e7e3e1800  "
      ]
     },
     "execution_count": 8,
     "metadata": {},
     "output_type": "execute_result"
    }
   ],
   "source": [
    "hash_df.head()"
   ]
  },
  {
   "cell_type": "code",
   "execution_count": 9,
   "metadata": {
    "ExecuteTime": {
     "end_time": "2019-08-06T23:05:18.384143Z",
     "start_time": "2019-08-06T23:05:18.240478Z"
    }
   },
   "outputs": [],
   "source": [
    "hash_df.to_csv('dupe_test_hash_results.tsv', sep='\\t', index=False)"
   ]
  },
  {
   "cell_type": "code",
   "execution_count": null,
   "metadata": {},
   "outputs": [],
   "source": []
  }
 ],
 "metadata": {
  "gist": {
   "data": {
    "description": "Untitled.ipynb",
    "public": false
   },
   "id": ""
  },
  "kernelspec": {
   "display_name": "Python 3",
   "language": "python",
   "name": "python3"
  },
  "language_info": {
   "codemirror_mode": {
    "name": "ipython",
    "version": 3
   },
   "file_extension": ".py",
   "mimetype": "text/x-python",
   "name": "python",
   "nbconvert_exporter": "python",
   "pygments_lexer": "ipython3",
   "version": "3.7.3"
  }
 },
 "nbformat": 4,
 "nbformat_minor": 2
}
